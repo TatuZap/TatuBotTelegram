{
 "cells": [
  {
   "cell_type": "code",
   "execution_count": 105,
   "metadata": {},
   "outputs": [
    {
     "name": "stdout",
     "output_type": "stream",
     "text": [
      "Estamos durante o Q3, faltam 1 dia(s) para acabar o quadrimestre\n"
     ]
    }
   ],
   "source": [
    "from datetime import datetime\n",
    "\n",
    "def contador_calendario(hoje,Q1_inicio, Q1_fim, Q2_inicio, Q2_fim, Q3_inicio,Q3_fim):\n",
    "    try:\n",
    "        if(hoje >= Q1_inicio and hoje<=Q1_fim):\n",
    "            delta = ((Q1_fim) - datetime.now()).days\n",
    "            print(f\"Estamos durante o Q1, faltam {delta} dia(s) para acabar o quadrimestre\")\n",
    "        elif(hoje >= Q2_inicio and hoje <= Q2_fim):\n",
    "            delta = ((Q2_fim) - datetime.now()).days\n",
    "            print(f\"Estamos durante o Q2, faltam {delta} dia(s) para acabar o quadrimestre\")\n",
    "        elif(hoje >= Q3_inicio and hoje <= Q3_fim):\n",
    "            delta = ((Q3_fim) - datetime.now()).days\n",
    "            print(f\"Estamos durante o Q3, faltam {delta} dia(s) para acabar o quadrimestre\")\n",
    "        elif((hoje < Q1_inicio) or (hoje > Q1_fim and hoje < Q2_inicio) or( hoje > Q2_fim and hoje < Q3_inicio) or (hoje > Q3_fim)):\n",
    "            delta = ((Q3_fim) - datetime.now()).days\n",
    "            print(\"Estamos durante o recesso, aproveite.\")\n",
    "    except Exception as e:\n",
    "        raise e\n",
    "\n",
    "contador_calendario(hoje = datetime.now(), Q1_inicio = datetime(2022,2,14),Q1_fim = datetime(2022,5,20),Q2_inicio = datetime(2022,6,6),\n",
    "Q2_fim = datetime(2022,8,31), Q3_inicio = datetime(2022,9,19),Q3_fim = datetime(2022,12,10))\n"
   ]
  }
 ],
 "metadata": {
  "kernelspec": {
   "display_name": "Python 3.8.0 64-bit",
   "language": "python",
   "name": "python3"
  },
  "language_info": {
   "codemirror_mode": {
    "name": "ipython",
    "version": 3
   },
   "file_extension": ".py",
   "mimetype": "text/x-python",
   "name": "python",
   "nbconvert_exporter": "python",
   "pygments_lexer": "ipython3",
   "version": "3.8.0 (tags/v3.8.0:fa919fd, Oct 14 2019, 19:37:50) [MSC v.1916 64 bit (AMD64)]"
  },
  "orig_nbformat": 4,
  "vscode": {
   "interpreter": {
    "hash": "ce493c01620190cbea222eea9bd6ed311d2a084442cc7c452d9591cc76b2eaa7"
   }
  }
 },
 "nbformat": 4,
 "nbformat_minor": 2
}
