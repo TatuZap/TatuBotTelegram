{
 "cells": [
  {
   "cell_type": "code",
   "execution_count": 18,
   "metadata": {},
   "outputs": [],
   "source": [
    "import catalogo_model"
   ]
  },
  {
   "cell_type": "code",
   "execution_count": 19,
   "metadata": {},
   "outputs": [],
   "source": [
    "catalogo = catalogo_model.clean_catalogo_df(catalogo_model.catalogo_df)"
   ]
  },
  {
   "cell_type": "code",
   "execution_count": 20,
   "metadata": {},
   "outputs": [
    {
     "data": {
      "text/html": [
       "<div>\n",
       "<style scoped>\n",
       "    .dataframe tbody tr th:only-of-type {\n",
       "        vertical-align: middle;\n",
       "    }\n",
       "\n",
       "    .dataframe tbody tr th {\n",
       "        vertical-align: top;\n",
       "    }\n",
       "\n",
       "    .dataframe thead th {\n",
       "        text-align: right;\n",
       "    }\n",
       "</style>\n",
       "<table border=\"1\" class=\"dataframe\">\n",
       "  <thead>\n",
       "    <tr style=\"text-align: right;\">\n",
       "      <th></th>\n",
       "      <th>sigla</th>\n",
       "      <th>disciplina</th>\n",
       "      <th>TPI</th>\n",
       "      <th>recomendacoes</th>\n",
       "      <th>objetivos</th>\n",
       "      <th>ementa</th>\n",
       "      <th>BB</th>\n",
       "      <th>BC</th>\n",
       "      <th>apelido</th>\n",
       "    </tr>\n",
       "  </thead>\n",
       "  <tbody>\n",
       "    <tr>\n",
       "      <th>0</th>\n",
       "      <td>ESHR022-14</td>\n",
       "      <td>Abordagens Tradicionais das Relacoes Internaci...</td>\n",
       "      <td>4-0-4</td>\n",
       "      <td>Não há</td>\n",
       "      <td></td>\n",
       "      <td>Contextualização histórica da emergência das t...</td>\n",
       "      <td>CARR, Edward Hallett. Vinte anos de crise 1919...</td>\n",
       "      <td>ARON, Raymond. Paz e Guerra entre as Nações. S...</td>\n",
       "      <td>atri</td>\n",
       "    </tr>\n",
       "    <tr>\n",
       "      <th>1</th>\n",
       "      <td>ESZM035-17</td>\n",
       "      <td>Aditivacao de Polimeros</td>\n",
       "      <td>4-0-4</td>\n",
       "      <td>Síntese de Polímeros; Materiais Poliméricos</td>\n",
       "      <td>Adquirir habilidades sobre o entendimento dos ...</td>\n",
       "      <td>Tipos de aditivos e métodos para obtenção de f...</td>\n",
       "      <td>BART, J.C.J. Additives in Polymer: industrial ...</td>\n",
       "      <td>CANEVAROLO JR, S. V., Ciência dos Polímeros, A...</td>\n",
       "      <td>ap</td>\n",
       "    </tr>\n",
       "    <tr>\n",
       "      <th>2</th>\n",
       "      <td>ESZP041-14</td>\n",
       "      <td>Administracao Publica e Reforma do Estado em P...</td>\n",
       "      <td>4-0-4</td>\n",
       "      <td>Não há</td>\n",
       "      <td>A disciplina visa apresentar aos alunos a vari...</td>\n",
       "      <td>Estado, política e administração pública; Cris...</td>\n",
       "      <td>BRESSER-PEREIRA, L. C. (1998). Reforma do esta...</td>\n",
       "      <td>ABRUCIO, Fernando Luiz; LOUREIRO, Maria Rita (...</td>\n",
       "      <td>aprepc</td>\n",
       "    </tr>\n",
       "    <tr>\n",
       "      <th>3</th>\n",
       "      <td>ESTS016-17</td>\n",
       "      <td>Aerodinamica I</td>\n",
       "      <td>4-0-5</td>\n",
       "      <td>Dinâmica de Gases</td>\n",
       "      <td>Familiarizar o aluno com a física associada à ...</td>\n",
       "      <td>Força de Sustenção e arrasto; Teoria do perfil...</td>\n",
       "      <td>ANDERSON, J. D. Fundamentals of Aerodynamics. ...</td>\n",
       "      <td>BARNARD, R. H. Road Vehicle Aerodynamic Design...</td>\n",
       "      <td>ai</td>\n",
       "    </tr>\n",
       "    <tr>\n",
       "      <th>4</th>\n",
       "      <td>ESZS019-17</td>\n",
       "      <td>Aerodinamica II</td>\n",
       "      <td>4-0-5</td>\n",
       "      <td>Aerodinâmica I</td>\n",
       "      <td>Familiarizar o aluno com a física de escoament...</td>\n",
       "      <td>Física do escoamento subsônico e hipersônico. ...</td>\n",
       "      <td>ANDERSON J. D. Hypersonic and High Temperature...</td>\n",
       "      <td>CHATTOT, J. J. Computational Aerodynamics and ...</td>\n",
       "      <td>ai</td>\n",
       "    </tr>\n",
       "    <tr>\n",
       "      <th>...</th>\n",
       "      <td>...</td>\n",
       "      <td>...</td>\n",
       "      <td>...</td>\n",
       "      <td>...</td>\n",
       "      <td>...</td>\n",
       "      <td>...</td>\n",
       "      <td>...</td>\n",
       "      <td>...</td>\n",
       "      <td>...</td>\n",
       "    </tr>\n",
       "    <tr>\n",
       "      <th>1245</th>\n",
       "      <td>MCZA052-22</td>\n",
       "      <td>Vizualizacao de Dados e Informacoes</td>\n",
       "      <td>0-4-4</td>\n",
       "      <td>Algoritmos e Estruturas de Dados I; Banco de D...</td>\n",
       "      <td>Reconhecer as implicações do sistema visual hu...</td>\n",
       "      <td>Fundamentos do sistema de percepção visual hum...</td>\n",
       "      <td>CHEN, Chun-houh. HÄRDLE, Wolfgang Karl. UNWIN,...</td>\n",
       "      <td>CHEN, Chaomei. Information Visualization: Beyo...</td>\n",
       "      <td>vdi</td>\n",
       "    </tr>\n",
       "    <tr>\n",
       "      <th>1246</th>\n",
       "      <td>MCZA031-13</td>\n",
       "      <td>Web Semantica</td>\n",
       "      <td>4-0-4</td>\n",
       "      <td>Inteligência Artificial</td>\n",
       "      <td></td>\n",
       "      <td>Introdução à Web Semântica (WS). Linguagens pa...</td>\n",
       "      <td>HITZLER, P., KRÖTZSCH, M., RUDOLPH, S. Foundat...</td>\n",
       "      <td>ANTONIOU, G.; GROTH, P.; VAN HARMELEN, F.; HOE...</td>\n",
       "      <td>ws</td>\n",
       "    </tr>\n",
       "    <tr>\n",
       "      <th>1247</th>\n",
       "      <td>NHT1063-15</td>\n",
       "      <td>Zoologia de Invertebrados I</td>\n",
       "      <td>2-4-3</td>\n",
       "      <td>Sistemática e Biogeografia</td>\n",
       "      <td></td>\n",
       "      <td>Fundamentos de sistemática; Origem de Metazoa ...</td>\n",
       "      <td>BRUSCA, Richard C.; BRUSCA, Gary J. Invertebra...</td>\n",
       "      <td>AMORIM, Dalton de Souza. Fundamentos de sistem...</td>\n",
       "      <td>zii</td>\n",
       "    </tr>\n",
       "    <tr>\n",
       "      <th>1248</th>\n",
       "      <td>NHT1064-15</td>\n",
       "      <td>Zoologia de Invertebrados II</td>\n",
       "      <td>2-4-3</td>\n",
       "      <td>Sistemática e Biogeografia; Zoologia de Invert...</td>\n",
       "      <td></td>\n",
       "      <td>Plano-básico de Deuterostomia; Filogenia de Ec...</td>\n",
       "      <td>BRUSCA, Richard C.; BRUSCA, Gary J. Invertebra...</td>\n",
       "      <td>AMORIM, Dalton de Souza. Fundamentos de sistem...</td>\n",
       "      <td>zii</td>\n",
       "    </tr>\n",
       "    <tr>\n",
       "      <th>1249</th>\n",
       "      <td>NHT1065-15</td>\n",
       "      <td>Zoologia de Vertebrados</td>\n",
       "      <td>4-2-3</td>\n",
       "      <td>Sistemática e Biogeografia; Zoologia de Invert...</td>\n",
       "      <td></td>\n",
       "      <td>Filogenia de Chordata (Urochordata, Cephalocho...</td>\n",
       "      <td>BRUSCA, Richard C.; BRUSCA, Gary J. Invertebra...</td>\n",
       "      <td>AMORIM, Dalton de Souza. Fundamentos de sistem...</td>\n",
       "      <td>zv</td>\n",
       "    </tr>\n",
       "  </tbody>\n",
       "</table>\n",
       "<p>1250 rows × 9 columns</p>\n",
       "</div>"
      ],
      "text/plain": [
       "           sigla                                         disciplina    TPI  \\\n",
       "0     ESHR022-14  Abordagens Tradicionais das Relacoes Internaci...  4-0-4   \n",
       "1     ESZM035-17                            Aditivacao de Polimeros  4-0-4   \n",
       "2     ESZP041-14  Administracao Publica e Reforma do Estado em P...  4-0-4   \n",
       "3     ESTS016-17                                     Aerodinamica I  4-0-5   \n",
       "4     ESZS019-17                                    Aerodinamica II  4-0-5   \n",
       "...          ...                                                ...    ...   \n",
       "1245  MCZA052-22                Vizualizacao de Dados e Informacoes  0-4-4   \n",
       "1246  MCZA031-13                                      Web Semantica  4-0-4   \n",
       "1247  NHT1063-15                        Zoologia de Invertebrados I  2-4-3   \n",
       "1248  NHT1064-15                       Zoologia de Invertebrados II  2-4-3   \n",
       "1249  NHT1065-15                            Zoologia de Vertebrados  4-2-3   \n",
       "\n",
       "                                          recomendacoes  \\\n",
       "0                                                Não há   \n",
       "1           Síntese de Polímeros; Materiais Poliméricos   \n",
       "2                                                Não há   \n",
       "3                                     Dinâmica de Gases   \n",
       "4                                        Aerodinâmica I   \n",
       "...                                                 ...   \n",
       "1245  Algoritmos e Estruturas de Dados I; Banco de D...   \n",
       "1246                            Inteligência Artificial   \n",
       "1247                         Sistemática e Biogeografia   \n",
       "1248  Sistemática e Biogeografia; Zoologia de Invert...   \n",
       "1249  Sistemática e Biogeografia; Zoologia de Invert...   \n",
       "\n",
       "                                              objetivos  \\\n",
       "0                                                         \n",
       "1     Adquirir habilidades sobre o entendimento dos ...   \n",
       "2     A disciplina visa apresentar aos alunos a vari...   \n",
       "3     Familiarizar o aluno com a física associada à ...   \n",
       "4     Familiarizar o aluno com a física de escoament...   \n",
       "...                                                 ...   \n",
       "1245  Reconhecer as implicações do sistema visual hu...   \n",
       "1246                                                      \n",
       "1247                                                      \n",
       "1248                                                      \n",
       "1249                                                      \n",
       "\n",
       "                                                 ementa  \\\n",
       "0     Contextualização histórica da emergência das t...   \n",
       "1     Tipos de aditivos e métodos para obtenção de f...   \n",
       "2     Estado, política e administração pública; Cris...   \n",
       "3     Força de Sustenção e arrasto; Teoria do perfil...   \n",
       "4     Física do escoamento subsônico e hipersônico. ...   \n",
       "...                                                 ...   \n",
       "1245  Fundamentos do sistema de percepção visual hum...   \n",
       "1246  Introdução à Web Semântica (WS). Linguagens pa...   \n",
       "1247  Fundamentos de sistemática; Origem de Metazoa ...   \n",
       "1248  Plano-básico de Deuterostomia; Filogenia de Ec...   \n",
       "1249  Filogenia de Chordata (Urochordata, Cephalocho...   \n",
       "\n",
       "                                                     BB  \\\n",
       "0     CARR, Edward Hallett. Vinte anos de crise 1919...   \n",
       "1     BART, J.C.J. Additives in Polymer: industrial ...   \n",
       "2     BRESSER-PEREIRA, L. C. (1998). Reforma do esta...   \n",
       "3     ANDERSON, J. D. Fundamentals of Aerodynamics. ...   \n",
       "4     ANDERSON J. D. Hypersonic and High Temperature...   \n",
       "...                                                 ...   \n",
       "1245  CHEN, Chun-houh. HÄRDLE, Wolfgang Karl. UNWIN,...   \n",
       "1246  HITZLER, P., KRÖTZSCH, M., RUDOLPH, S. Foundat...   \n",
       "1247  BRUSCA, Richard C.; BRUSCA, Gary J. Invertebra...   \n",
       "1248  BRUSCA, Richard C.; BRUSCA, Gary J. Invertebra...   \n",
       "1249  BRUSCA, Richard C.; BRUSCA, Gary J. Invertebra...   \n",
       "\n",
       "                                                     BC apelido  \n",
       "0     ARON, Raymond. Paz e Guerra entre as Nações. S...    atri  \n",
       "1     CANEVAROLO JR, S. V., Ciência dos Polímeros, A...      ap  \n",
       "2     ABRUCIO, Fernando Luiz; LOUREIRO, Maria Rita (...  aprepc  \n",
       "3     BARNARD, R. H. Road Vehicle Aerodynamic Design...      ai  \n",
       "4     CHATTOT, J. J. Computational Aerodynamics and ...      ai  \n",
       "...                                                 ...     ...  \n",
       "1245  CHEN, Chaomei. Information Visualization: Beyo...     vdi  \n",
       "1246  ANTONIOU, G.; GROTH, P.; VAN HARMELEN, F.; HOE...      ws  \n",
       "1247  AMORIM, Dalton de Souza. Fundamentos de sistem...     zii  \n",
       "1248  AMORIM, Dalton de Souza. Fundamentos de sistem...     zii  \n",
       "1249  AMORIM, Dalton de Souza. Fundamentos de sistem...      zv  \n",
       "\n",
       "[1250 rows x 9 columns]"
      ]
     },
     "metadata": {},
     "output_type": "display_data"
    }
   ],
   "source": [
    "display(catalogo)"
   ]
  },
  {
   "cell_type": "code",
   "execution_count": 53,
   "metadata": {},
   "outputs": [
    {
     "data": {
      "text/plain": [
       "ei    9\n",
       "mi    7\n",
       "em    7\n",
       "n     7\n",
       "p     7\n",
       "Name: apelido, dtype: int64"
      ]
     },
     "metadata": {},
     "output_type": "display_data"
    }
   ],
   "source": [
    "a = catalogo[\"apelido\"].value_counts()\n",
    "\n",
    "display(a[0:5])"
   ]
  },
  {
   "cell_type": "code",
   "execution_count": 22,
   "metadata": {},
   "outputs": [
    {
     "name": "stdout",
     "output_type": "stream",
     "text": [
      "ei    9\n",
      "mi    7\n",
      "em    7\n",
      "n     7\n",
      "p     7\n",
      "pe    7\n",
      "ee    6\n",
      "pc    6\n",
      "e     6\n",
      "c     6\n",
      "Name: apelido, dtype: int64\n"
     ]
    }
   ],
   "source": [
    "print(a[0:10])\n",
    "a = a.to_list()"
   ]
  },
  {
   "cell_type": "code",
   "execution_count": 46,
   "metadata": {},
   "outputs": [
    {
     "data": {
      "text/plain": [
       "' ipe'"
      ]
     },
     "execution_count": 46,
     "metadata": {},
     "output_type": "execute_result"
    }
   ],
   "source": [
    "# tamanho {1}{7} \n",
    "# a b a c a x i\n",
    "# me ve a ementa de {}\n",
    "import re\n",
    "string = \"me ve a ementa de ipe\"\n",
    "\n",
    "re.search(\"ementa.?de(.*)$\",string=string).group(1)"
   ]
  },
  {
   "cell_type": "code",
   "execution_count": 23,
   "metadata": {},
   "outputs": [
    {
     "data": {
      "text/plain": [
       "(array([713., 108.,  43.,  21.,   0.,   8.,   4.,   5.,   0.,   1.]),\n",
       " array([1. , 1.8, 2.6, 3.4, 4.2, 5. , 5.8, 6.6, 7.4, 8.2, 9. ]),\n",
       " <BarContainer object of 10 artists>)"
      ]
     },
     "execution_count": 23,
     "metadata": {},
     "output_type": "execute_result"
    },
    {
     "data": {
      "image/png": "[encoded data removed]",
      "text/plain": [
       "<Figure size 640x480 with 1 Axes>"
      ]
     },
     "metadata": {},
     "output_type": "display_data"
    }
   ],
   "source": [
    "import matplotlib.pyplot as plt\n",
    "\n",
    "plt.hist(x=a,bins=10)\n"
   ]
  }
 ],
 "metadata": {
  "kernelspec": {
   "display_name": "Python 3.8.0 ('venv': venv)",
   "language": "python",
   "name": "python3"
  },
  "language_info": {
   "codemirror_mode": {
    "name": "ipython",
    "version": 3
   },
   "file_extension": ".py",
   "mimetype": "text/x-python",
   "name": "python",
   "nbconvert_exporter": "python",
   "pygments_lexer": "ipython3",
   "version": "3.8.0"
  },
  "orig_nbformat": 4,
  "vscode": {
   "interpreter": {
    "hash": "c5bedef499970840ad477fbdef9361e6005ba3e26634ee87f807ae9e001ba383"
   }
  }
 },
 "nbformat": 4,
 "nbformat_minor": 2
}
